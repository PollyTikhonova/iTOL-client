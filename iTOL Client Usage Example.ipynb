{
 "cells": [
  {
   "cell_type": "markdown",
   "metadata": {},
   "source": [
    "### iTOL Client Usage Example"
   ]
  },
  {
   "cell_type": "code",
   "execution_count": 1,
   "metadata": {
    "ExecuteTime": {
     "end_time": "2020-08-28T21:34:32.960447Z",
     "start_time": "2020-08-28T21:34:32.300901Z"
    }
   },
   "outputs": [],
   "source": [
    "from iTOL_client import ITOL_session"
   ]
  },
  {
   "cell_type": "code",
   "execution_count": 2,
   "metadata": {
    "ExecuteTime": {
     "end_time": "2020-08-28T21:34:32.970108Z",
     "start_time": "2020-08-28T21:34:32.965122Z"
    }
   },
   "outputs": [],
   "source": [
    "login = login\n",
    "pwd = pwd"
   ]
  },
  {
   "cell_type": "markdown",
   "metadata": {},
   "source": [
    "Login to yout iTOL account and get the information about all your workspaces, projects and trees:"
   ]
  },
  {
   "cell_type": "code",
   "execution_count": 3,
   "metadata": {
    "ExecuteTime": {
     "end_time": "2020-08-28T21:34:37.225454Z",
     "start_time": "2020-08-28T21:34:36.036750Z"
    }
   },
   "outputs": [],
   "source": [
    "my_itol = ITOL_session(login=login, password=pwd)"
   ]
  },
  {
   "cell_type": "markdown",
   "metadata": {},
   "source": [
    "### Surfing through your iTOL account"
   ]
  },
  {
   "cell_type": "markdown",
   "metadata": {
    "ExecuteTime": {
     "end_time": "2020-08-28T20:42:25.619394Z",
     "start_time": "2020-08-28T20:42:25.613408Z"
    }
   },
   "source": [
    "Here is your workspaces:"
   ]
  },
  {
   "cell_type": "code",
   "execution_count": 4,
   "metadata": {
    "ExecuteTime": {
     "end_time": "2020-08-28T21:10:53.304295Z",
     "start_time": "2020-08-28T21:10:53.280358Z"
    }
   },
   "outputs": [
    {
     "data": {
      "text/html": [
       "<div>\n",
       "<style scoped>\n",
       "    .dataframe tbody tr th:only-of-type {\n",
       "        vertical-align: middle;\n",
       "    }\n",
       "\n",
       "    .dataframe tbody tr th {\n",
       "        vertical-align: top;\n",
       "    }\n",
       "\n",
       "    .dataframe thead th {\n",
       "        text-align: right;\n",
       "    }\n",
       "</style>\n",
       "<table border=\"1\" class=\"dataframe\">\n",
       "  <thead>\n",
       "    <tr style=\"text-align: right;\">\n",
       "      <th></th>\n",
       "      <th>Name</th>\n",
       "      <th>ID</th>\n",
       "      <th>Description</th>\n",
       "    </tr>\n",
       "  </thead>\n",
       "  <tbody>\n",
       "    <tr>\n",
       "      <th>0</th>\n",
       "      <td>Default</td>\n",
       "      <td>76963</td>\n",
       "      <td>Default workspace. Edit the information in the...</td>\n",
       "    </tr>\n",
       "    <tr>\n",
       "      <th>1</th>\n",
       "      <td>new workspace</td>\n",
       "      <td>77443</td>\n",
       "      <td>No description.</td>\n",
       "    </tr>\n",
       "  </tbody>\n",
       "</table>\n",
       "</div>"
      ],
      "text/plain": [
       "            Name     ID                                        Description\n",
       "0        Default  76963  Default workspace. Edit the information in the...\n",
       "1  new workspace  77443                                    No description."
      ]
     },
     "execution_count": 4,
     "metadata": {},
     "output_type": "execute_result"
    }
   ],
   "source": [
    "# workspaces\n",
    "itol_data = my_itol.data\n",
    "itol_data.table"
   ]
  },
  {
   "cell_type": "markdown",
   "metadata": {},
   "source": [
    "Let's look into Default project"
   ]
  },
  {
   "cell_type": "code",
   "execution_count": 5,
   "metadata": {
    "ExecuteTime": {
     "end_time": "2020-08-28T21:11:00.294918Z",
     "start_time": "2020-08-28T21:11:00.281954Z"
    }
   },
   "outputs": [
    {
     "data": {
      "text/html": [
       "<div>\n",
       "<style scoped>\n",
       "    .dataframe tbody tr th:only-of-type {\n",
       "        vertical-align: middle;\n",
       "    }\n",
       "\n",
       "    .dataframe tbody tr th {\n",
       "        vertical-align: top;\n",
       "    }\n",
       "\n",
       "    .dataframe thead th {\n",
       "        text-align: right;\n",
       "    }\n",
       "</style>\n",
       "<table border=\"1\" class=\"dataframe\">\n",
       "  <thead>\n",
       "    <tr style=\"text-align: right;\">\n",
       "      <th></th>\n",
       "      <th>Name</th>\n",
       "      <th>ID</th>\n",
       "      <th>SID</th>\n",
       "      <th>Description</th>\n",
       "    </tr>\n",
       "  </thead>\n",
       "  <tbody>\n",
       "    <tr>\n",
       "      <th>0</th>\n",
       "      <td>Marinimicrobia project</td>\n",
       "      <td>117103</td>\n",
       "      <td>17pQbrlkINkdE</td>\n",
       "      <td>protein predictions for 177 Marinimicrobia.</td>\n",
       "    </tr>\n",
       "    <tr>\n",
       "      <th>1</th>\n",
       "      <td>Sample project</td>\n",
       "      <td>117772</td>\n",
       "      <td></td>\n",
       "      <td>No description.</td>\n",
       "    </tr>\n",
       "  </tbody>\n",
       "</table>\n",
       "</div>"
      ],
      "text/plain": [
       "                     Name      ID            SID  \\\n",
       "0  Marinimicrobia project  117103  17pQbrlkINkdE   \n",
       "1          Sample project  117772                  \n",
       "\n",
       "                                   Description  \n",
       "0  protein predictions for 177 Marinimicrobia.  \n",
       "1                              No description.  "
      ]
     },
     "execution_count": 5,
     "metadata": {},
     "output_type": "execute_result"
    }
   ],
   "source": [
    "itol_data['Default'].table"
   ]
  },
  {
   "cell_type": "markdown",
   "metadata": {},
   "source": [
    "Also, you can call the project by id"
   ]
  },
  {
   "cell_type": "code",
   "execution_count": 6,
   "metadata": {
    "ExecuteTime": {
     "end_time": "2020-08-28T21:11:04.980931Z",
     "start_time": "2020-08-28T21:11:04.969961Z"
    }
   },
   "outputs": [
    {
     "data": {
      "text/html": [
       "<div>\n",
       "<style scoped>\n",
       "    .dataframe tbody tr th:only-of-type {\n",
       "        vertical-align: middle;\n",
       "    }\n",
       "\n",
       "    .dataframe tbody tr th {\n",
       "        vertical-align: top;\n",
       "    }\n",
       "\n",
       "    .dataframe thead th {\n",
       "        text-align: right;\n",
       "    }\n",
       "</style>\n",
       "<table border=\"1\" class=\"dataframe\">\n",
       "  <thead>\n",
       "    <tr style=\"text-align: right;\">\n",
       "      <th></th>\n",
       "      <th>Name</th>\n",
       "      <th>ID</th>\n",
       "      <th>SID</th>\n",
       "      <th>Description</th>\n",
       "    </tr>\n",
       "  </thead>\n",
       "  <tbody>\n",
       "    <tr>\n",
       "      <th>0</th>\n",
       "      <td>Marinimicrobia project</td>\n",
       "      <td>117103</td>\n",
       "      <td>17pQbrlkINkdE</td>\n",
       "      <td>protein predictions for 177 Marinimicrobia.</td>\n",
       "    </tr>\n",
       "    <tr>\n",
       "      <th>1</th>\n",
       "      <td>Sample project</td>\n",
       "      <td>117772</td>\n",
       "      <td></td>\n",
       "      <td>No description.</td>\n",
       "    </tr>\n",
       "  </tbody>\n",
       "</table>\n",
       "</div>"
      ],
      "text/plain": [
       "                     Name      ID            SID  \\\n",
       "0  Marinimicrobia project  117103  17pQbrlkINkdE   \n",
       "1          Sample project  117772                  \n",
       "\n",
       "                                   Description  \n",
       "0  protein predictions for 177 Marinimicrobia.  \n",
       "1                              No description.  "
      ]
     },
     "execution_count": 6,
     "metadata": {},
     "output_type": "execute_result"
    }
   ],
   "source": [
    "itol_data['76963'].table"
   ]
  },
  {
   "cell_type": "markdown",
   "metadata": {},
   "source": [
    "Moreover, you can get any parameter of the workspace (for projects and trees you can run a similar command):"
   ]
  },
  {
   "cell_type": "code",
   "execution_count": 7,
   "metadata": {
    "ExecuteTime": {
     "end_time": "2020-08-28T21:11:10.195939Z",
     "start_time": "2020-08-28T21:11:10.186963Z"
    }
   },
   "outputs": [
    {
     "data": {
      "text/plain": [
       "('Default',\n",
       " '76963',\n",
       " 'Default workspace. Edit the information in the workspace options. Change the descriptions by clicking them.')"
      ]
     },
     "execution_count": 7,
     "metadata": {},
     "output_type": "execute_result"
    }
   ],
   "source": [
    "itol_data['Default'].name, itol_data['Default'].id, itol_data['Default'].desc"
   ]
  },
  {
   "cell_type": "markdown",
   "metadata": {},
   "source": [
    "Dive deeper into the project:"
   ]
  },
  {
   "cell_type": "code",
   "execution_count": 8,
   "metadata": {
    "ExecuteTime": {
     "end_time": "2020-08-28T21:11:13.519869Z",
     "start_time": "2020-08-28T21:11:13.504909Z"
    }
   },
   "outputs": [
    {
     "data": {
      "text/html": [
       "<div>\n",
       "<style scoped>\n",
       "    .dataframe tbody tr th:only-of-type {\n",
       "        vertical-align: middle;\n",
       "    }\n",
       "\n",
       "    .dataframe tbody tr th {\n",
       "        vertical-align: top;\n",
       "    }\n",
       "\n",
       "    .dataframe thead th {\n",
       "        text-align: right;\n",
       "    }\n",
       "</style>\n",
       "<table border=\"1\" class=\"dataframe\">\n",
       "  <thead>\n",
       "    <tr style=\"text-align: right;\">\n",
       "      <th></th>\n",
       "      <th>Name</th>\n",
       "      <th>ID</th>\n",
       "      <th>Description</th>\n",
       "      <th>Datasets</th>\n",
       "      <th>Inserted</th>\n",
       "      <th>Modified</th>\n",
       "      <th>Accessed</th>\n",
       "    </tr>\n",
       "  </thead>\n",
       "  <tbody>\n",
       "    <tr>\n",
       "      <th>0</th>\n",
       "      <td>tree</td>\n",
       "      <td>10925215823151881597867576</td>\n",
       "      <td>first tree on an alignment</td>\n",
       "      <td>text labels [Text labels]</td>\n",
       "      <td>2020-08-19</td>\n",
       "      <td>2020-08-25 22:52</td>\n",
       "      <td>2020-08-28 12:06</td>\n",
       "    </tr>\n",
       "    <tr>\n",
       "      <th>1</th>\n",
       "      <td>tree_renamed</td>\n",
       "      <td>19517820316233851598363824</td>\n",
       "      <td>No description</td>\n",
       "      <td>None</td>\n",
       "      <td>2020-08-25</td>\n",
       "      <td>2020-08-25 22:50</td>\n",
       "      <td>2020-08-26 12:08</td>\n",
       "    </tr>\n",
       "    <tr>\n",
       "      <th>2</th>\n",
       "      <td>tree_renamed</td>\n",
       "      <td>195178203162487081598437297</td>\n",
       "      <td>No description</td>\n",
       "      <td>None</td>\n",
       "      <td>2020-08-26</td>\n",
       "      <td></td>\n",
       "      <td>2020-08-26 12:21</td>\n",
       "    </tr>\n",
       "    <tr>\n",
       "      <th>3</th>\n",
       "      <td>Python tree</td>\n",
       "      <td>1092254246295561598648377</td>\n",
       "      <td>Python generated tree</td>\n",
       "      <td>Completeness &amp; Contamination [Multi value bar ...</td>\n",
       "      <td>2020-08-28</td>\n",
       "      <td>2020-08-28 22:59</td>\n",
       "      <td></td>\n",
       "    </tr>\n",
       "  </tbody>\n",
       "</table>\n",
       "</div>"
      ],
      "text/plain": [
       "           Name                           ID                 Description  \\\n",
       "0          tree   10925215823151881597867576  first tree on an alignment   \n",
       "1  tree_renamed   19517820316233851598363824              No description   \n",
       "2  tree_renamed  195178203162487081598437297              No description   \n",
       "3   Python tree    1092254246295561598648377       Python generated tree   \n",
       "\n",
       "                                            Datasets    Inserted  \\\n",
       "0                          text labels [Text labels]  2020-08-19   \n",
       "1                                               None  2020-08-25   \n",
       "2                                               None  2020-08-26   \n",
       "3  Completeness & Contamination [Multi value bar ...  2020-08-28   \n",
       "\n",
       "           Modified          Accessed  \n",
       "0  2020-08-25 22:52  2020-08-28 12:06  \n",
       "1  2020-08-25 22:50  2020-08-26 12:08  \n",
       "2                    2020-08-26 12:21  \n",
       "3  2020-08-28 22:59                    "
      ]
     },
     "execution_count": 8,
     "metadata": {},
     "output_type": "execute_result"
    }
   ],
   "source": [
    "itol_data['Default']['Marinimicrobia project'].table"
   ]
  },
  {
   "cell_type": "markdown",
   "metadata": {},
   "source": [
    "Touch trees with duplicated names"
   ]
  },
  {
   "cell_type": "code",
   "execution_count": 9,
   "metadata": {
    "ExecuteTime": {
     "end_time": "2020-08-28T21:11:20.808575Z",
     "start_time": "2020-08-28T21:11:20.801593Z"
    }
   },
   "outputs": [
    {
     "data": {
      "text/plain": [
       "[<iTOL_client.ITOL_tree at 0x1bf215bc5f8>,\n",
       " <iTOL_client.ITOL_tree at 0x1bf215bc6a0>]"
      ]
     },
     "execution_count": 9,
     "metadata": {},
     "output_type": "execute_result"
    }
   ],
   "source": [
    "itol_data['Default']['Marinimicrobia project']['tree_renamed']"
   ]
  },
  {
   "cell_type": "code",
   "execution_count": 10,
   "metadata": {
    "ExecuteTime": {
     "end_time": "2020-08-28T21:11:32.528955Z",
     "start_time": "2020-08-28T21:11:32.522974Z"
    }
   },
   "outputs": [
    {
     "data": {
      "text/plain": [
       "'Completeness & Contamination [Multi value bar chart / pie chart], Genome size [Simple bar chart], Clades [Color strip]'"
      ]
     },
     "execution_count": 10,
     "metadata": {},
     "output_type": "execute_result"
    }
   ],
   "source": [
    "itol_data['Default']['Marinimicrobia project']['Python tree'].datasets"
   ]
  },
  {
   "cell_type": "markdown",
   "metadata": {},
   "source": [
    "### Delete workspaces, projects or trees by their IDs"
   ]
  },
  {
   "cell_type": "code",
   "execution_count": 11,
   "metadata": {
    "ExecuteTime": {
     "end_time": "2020-08-28T21:12:07.279419Z",
     "start_time": "2020-08-28T21:12:07.269448Z"
    }
   },
   "outputs": [
    {
     "data": {
      "text/html": [
       "<div>\n",
       "<style scoped>\n",
       "    .dataframe tbody tr th:only-of-type {\n",
       "        vertical-align: middle;\n",
       "    }\n",
       "\n",
       "    .dataframe tbody tr th {\n",
       "        vertical-align: top;\n",
       "    }\n",
       "\n",
       "    .dataframe thead th {\n",
       "        text-align: right;\n",
       "    }\n",
       "</style>\n",
       "<table border=\"1\" class=\"dataframe\">\n",
       "  <thead>\n",
       "    <tr style=\"text-align: right;\">\n",
       "      <th></th>\n",
       "      <th>Name</th>\n",
       "      <th>ID</th>\n",
       "      <th>Description</th>\n",
       "    </tr>\n",
       "  </thead>\n",
       "  <tbody>\n",
       "    <tr>\n",
       "      <th>0</th>\n",
       "      <td>Default</td>\n",
       "      <td>76963</td>\n",
       "      <td>Default workspace. Edit the information in the...</td>\n",
       "    </tr>\n",
       "    <tr>\n",
       "      <th>1</th>\n",
       "      <td>new workspace</td>\n",
       "      <td>77443</td>\n",
       "      <td>No description.</td>\n",
       "    </tr>\n",
       "  </tbody>\n",
       "</table>\n",
       "</div>"
      ],
      "text/plain": [
       "            Name     ID                                        Description\n",
       "0        Default  76963  Default workspace. Edit the information in the...\n",
       "1  new workspace  77443                                    No description."
      ]
     },
     "execution_count": 11,
     "metadata": {},
     "output_type": "execute_result"
    }
   ],
   "source": [
    "my_itol.data.table"
   ]
  },
  {
   "cell_type": "code",
   "execution_count": 12,
   "metadata": {
    "ExecuteTime": {
     "end_time": "2020-08-28T21:12:14.172134Z",
     "start_time": "2020-08-28T21:12:13.350739Z"
    }
   },
   "outputs": [
    {
     "data": {
      "text/plain": [
       "'{\"id\":\"hd-ws-77443\",\"p\":\"ws-77443\"}'"
      ]
     },
     "execution_count": 12,
     "metadata": {},
     "output_type": "execute_result"
    }
   ],
   "source": [
    "my_itol.delete('workspace', '77443')"
   ]
  },
  {
   "cell_type": "code",
   "execution_count": 13,
   "metadata": {
    "ExecuteTime": {
     "end_time": "2020-08-28T21:12:14.342678Z",
     "start_time": "2020-08-28T21:12:14.329715Z"
    }
   },
   "outputs": [
    {
     "data": {
      "text/html": [
       "<div>\n",
       "<style scoped>\n",
       "    .dataframe tbody tr th:only-of-type {\n",
       "        vertical-align: middle;\n",
       "    }\n",
       "\n",
       "    .dataframe tbody tr th {\n",
       "        vertical-align: top;\n",
       "    }\n",
       "\n",
       "    .dataframe thead th {\n",
       "        text-align: right;\n",
       "    }\n",
       "</style>\n",
       "<table border=\"1\" class=\"dataframe\">\n",
       "  <thead>\n",
       "    <tr style=\"text-align: right;\">\n",
       "      <th></th>\n",
       "      <th>Name</th>\n",
       "      <th>ID</th>\n",
       "      <th>Description</th>\n",
       "    </tr>\n",
       "  </thead>\n",
       "  <tbody>\n",
       "    <tr>\n",
       "      <th>0</th>\n",
       "      <td>Default</td>\n",
       "      <td>76963</td>\n",
       "      <td>Default workspace. Edit the information in the...</td>\n",
       "    </tr>\n",
       "  </tbody>\n",
       "</table>\n",
       "</div>"
      ],
      "text/plain": [
       "      Name     ID                                        Description\n",
       "0  Default  76963  Default workspace. Edit the information in the..."
      ]
     },
     "execution_count": 13,
     "metadata": {},
     "output_type": "execute_result"
    }
   ],
   "source": [
    "my_itol.data.table"
   ]
  },
  {
   "cell_type": "markdown",
   "metadata": {},
   "source": [
    "### Reload iTOL data"
   ]
  },
  {
   "cell_type": "code",
   "execution_count": 4,
   "metadata": {
    "ExecuteTime": {
     "end_time": "2020-08-28T21:34:50.221035Z",
     "start_time": "2020-08-28T21:34:49.619101Z"
    }
   },
   "outputs": [],
   "source": [
    "my_itol.get_data()"
   ]
  }
 ],
 "metadata": {
  "anaconda-cloud": {},
  "kernelspec": {
   "display_name": "Python 3",
   "language": "python",
   "name": "root"
  },
  "language_info": {
   "codemirror_mode": {
    "name": "ipython",
    "version": 3
   },
   "file_extension": ".py",
   "mimetype": "text/x-python",
   "name": "python",
   "nbconvert_exporter": "python",
   "pygments_lexer": "ipython3",
   "version": "3.7.1"
  }
 },
 "nbformat": 4,
 "nbformat_minor": 2
}
